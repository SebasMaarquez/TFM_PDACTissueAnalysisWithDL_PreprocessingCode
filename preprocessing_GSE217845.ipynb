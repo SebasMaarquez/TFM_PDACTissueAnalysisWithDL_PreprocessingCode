{
  "cells": [
    {
      "cell_type": "code",
      "execution_count": null,
      "id": "9fxYPetkKeXX",
      "metadata": {
        "colab": {
          "base_uri": "https://localhost:8080/"
        },
        "id": "9fxYPetkKeXX",
        "outputId": "0d85ed11-ba44-49ed-b161-66e9599e9fbf"
      },
      "outputs": [],
      "source": [
        "# 1. Montar Drive\n",
        "from google.colab import drive\n",
        "drive.mount('/content/drive')"
      ]
    },
    {
      "cell_type": "code",
      "execution_count": null,
      "id": "a3fd897a-2e54-49ba-bea0-306c0784c350",
      "metadata": {
        "colab": {
          "base_uri": "https://localhost:8080/"
        },
        "id": "a3fd897a-2e54-49ba-bea0-306c0784c350",
        "outputId": "af681d6b-887f-4c92-8382-ea529fdd777e"
      },
      "outputs": [],
      "source": [
        "!pip install kneed\n",
        "!pip install --upgrade scvi-tools\n",
        "!pip install kneed\n",
        "!pip install scrublet"
      ]
    },
    {
      "cell_type": "code",
      "execution_count": null,
      "id": "rGrIsqlXMov2",
      "metadata": {
        "colab": {
          "base_uri": "https://localhost:8080/"
        },
        "id": "rGrIsqlXMov2",
        "outputId": "159ddb13-6592-4bba-f448-d30985cd1079"
      },
      "outputs": [],
      "source": [
        "!pip install scanpy"
      ]
    },
    {
      "cell_type": "code",
      "execution_count": null,
      "id": "3b460e3c-a108-46a2-a540-c415f6293b8d",
      "metadata": {
        "id": "3b460e3c-a108-46a2-a540-c415f6293b8d"
      },
      "outputs": [],
      "source": [
        "# Load the required modules\n",
        "import numpy as np\n",
        "import pandas as pd\n",
        "import scanpy as sc\n",
        "import matplotlib.pyplot as plt\n",
        "import seaborn as sns\n",
        "import scvi\n",
        "from scipy.sparse import csr_matrix\n",
        "from sklearn.decomposition import PCA\n",
        "import warnings\n",
        "from scipy.stats import median_abs_deviation\n",
        "import os\n",
        "import pickle as pkl\n",
        "from kneed import KneeLocator as kl\n",
        "import scrublet as scr\n",
        "import os\n",
        "# Ignore the warning messages\n",
        "warnings.filterwarnings(\"ignore\")"
      ]
    },
    {
      "cell_type": "code",
      "execution_count": null,
      "id": "2a255e4f-2bd8-4ed0-9694-b4d527d2b5a4",
      "metadata": {
        "id": "2a255e4f-2bd8-4ed0-9694-b4d527d2b5a4"
      },
      "outputs": [],
      "source": [
        "from matplotlib.pyplot import rc_context"
      ]
    },
    {
      "cell_type": "code",
      "execution_count": null,
      "id": "0933d98d-c630-48ea-a917-fc7a3a077a3f",
      "metadata": {
        "id": "0933d98d-c630-48ea-a917-fc7a3a077a3f",
        "outputId": "b2b1fc96-6a61-420b-917a-17c195836a29"
      },
      "outputs": [],
      "source": [
        "# Ruta de la carpeta\n",
        "ruta_carpeta = \"./adatas\"\n",
        "\n",
        "# Lista para almacenar los objetos AnnData\n",
        "adatas = []\n",
        "\n",
        "# Recorrer todos los archivos en la carpeta\n",
        "for archivo in os.listdir(ruta_carpeta):\n",
        "    ruta_archivo = os.path.join(ruta_carpeta, archivo)\n",
        "    # Verificar si es un archivo válido para AnnData (e.g., .h5ad, .loom, .mtx, etc.)\n",
        "    if os.path.isfile(ruta_archivo) and archivo.endswith((\".h5ad\", \".loom\", \".mtx\")):\n",
        "        try:\n",
        "            # Cargar el archivo como AnnData\n",
        "            adata = sc.read_h5ad(ruta_archivo)\n",
        "            adata.var_names_make_unique()\n",
        "            adata.obs_names_make_unique()\n",
        "            adatas.append(adata)\n",
        "            print(f\"Cargado: {archivo}\")\n",
        "        except Exception as e:\n",
        "            print(f\"Error al cargar {archivo}: {e}\")\n",
        "\n",
        "# Resultado: lista de objetos AnnData\n",
        "print(f\"Se cargaron {len(adatas)} archivos AnnData.\")\n"
      ]
    },
    {
      "cell_type": "code",
      "execution_count": null,
      "id": "235c4878-4500-46e8-bfff-19ce1cb2e4c0",
      "metadata": {
        "id": "235c4878-4500-46e8-bfff-19ce1cb2e4c0",
        "outputId": "0cd3f5be-f8a5-4b29-91d9-8fe1844c1544"
      },
      "outputs": [],
      "source": [
        "for adata in adatas:\n",
        "    print(adata.obs['Sample'].unique())"
      ]
    },
    {
      "cell_type": "code",
      "execution_count": null,
      "id": "6b13fde2-f455-4140-bb68-8a02ddba1080",
      "metadata": {
        "id": "6b13fde2-f455-4140-bb68-8a02ddba1080",
        "outputId": "4525b58b-cd83-4c67-b0bd-304cfa9c2c08"
      },
      "outputs": [],
      "source": [
        "adatas"
      ]
    },
    {
      "cell_type": "code",
      "execution_count": null,
      "id": "1cbca45b-73b9-4b12-972e-3b66037a8b23",
      "metadata": {
        "id": "1cbca45b-73b9-4b12-972e-3b66037a8b23",
        "outputId": "3a681f49-a045-45eb-ad0d-4280c5fc0e7b"
      },
      "outputs": [],
      "source": [
        "gene_sets = [set(adata.var_names) for adata in adatas]\n",
        "\n",
        "# Encontrar intersección de todos los genes\n",
        "shared_genes = set.intersection(*gene_sets)\n",
        "\n",
        "# Resultado: número de genes compartidos\n",
        "print(f\"Número de genes compartidos: {len(shared_genes)}\")"
      ]
    },
    {
      "cell_type": "code",
      "execution_count": null,
      "id": "0f7c7cb8-33f4-45ea-8300-eb89e132b9f6",
      "metadata": {
        "id": "0f7c7cb8-33f4-45ea-8300-eb89e132b9f6"
      },
      "outputs": [],
      "source": [
        "adata = sc.concat(adatas)"
      ]
    },
    {
      "cell_type": "code",
      "execution_count": null,
      "id": "f60fac4d-391d-4980-8538-6e465de78271",
      "metadata": {
        "id": "f60fac4d-391d-4980-8538-6e465de78271"
      },
      "outputs": [],
      "source": [
        "#adata = adatas[0]"
      ]
    },
    {
      "cell_type": "code",
      "execution_count": null,
      "id": "a6811f05-ff5c-4df5-8fad-2d67ac7929f4",
      "metadata": {
        "id": "a6811f05-ff5c-4df5-8fad-2d67ac7929f4",
        "outputId": "a8587c62-7d1d-463f-c517-48131d14601a"
      },
      "outputs": [],
      "source": [
        "adata"
      ]
    },
    {
      "cell_type": "code",
      "execution_count": null,
      "id": "0134f0b1-ab15-49e5-b57e-e7f929d2227d",
      "metadata": {
        "id": "0134f0b1-ab15-49e5-b57e-e7f929d2227d"
      },
      "outputs": [],
      "source": [
        "adata_d = adata.copy()"
      ]
    },
    {
      "cell_type": "code",
      "execution_count": null,
      "id": "a45a607a-fc90-419a-890f-94902a40140b",
      "metadata": {
        "id": "a45a607a-fc90-419a-890f-94902a40140b",
        "outputId": "af313301-a78d-4f18-cac2-f34667a56633"
      },
      "outputs": [],
      "source": [
        "adata_d"
      ]
    },
    {
      "cell_type": "code",
      "execution_count": null,
      "id": "59dc3695-5cba-4666-adfd-d08604bef77c",
      "metadata": {
        "colab": {
          "referenced_widgets": [
            "cf49a5636ac54b5eafd62b846adf7a64",
            "a50e2272b89b4ababb4f0587865aea00"
          ]
        },
        "id": "59dc3695-5cba-4666-adfd-d08604bef77c",
        "outputId": "561968e8-7631-4166-9c26-2d91605ca4a0"
      },
      "outputs": [],
      "source": [
        "sc.pp.filter_cells(adata_d, min_genes = 500)\n",
        "sc.pp.filter_genes(adata_d, min_cells = 3)\n",
        "sc.pp.highly_variable_genes(adata_d, n_top_genes = 2000, subset = True, flavor = 'seurat_v3')\n",
        "print(f'Comenzamos con {adata_d.n_obs} celulas')\n",
        "#Entrenamos el modelo\n",
        "scvi.model.SCVI.setup_anndata(adata_d)\n",
        "vae = scvi.model.SCVI(adata_d)\n",
        "vae.train()\n",
        "solo = scvi.external.SOLO.from_scvi_model(vae)\n",
        "solo.train()\n",
        "\n",
        "#Predecimos los doublets\n",
        "df = solo.predict()\n",
        "df['prediction'] = solo.predict(soft = False)\n",
        "#df.index = df.index.map(lambda x: x[:-2])\n",
        "display(df)\n",
        "n_doublets = len(df[df.prediction == 'doublet'])\n",
        "print(f'Se han detectado {n_doublets} doublets')\n",
        "#Visualizamos los doublets\n",
        "#THIS STEP IS NOT NECESSARY, just to visuallize results\n",
        "adata_d.obs['prediction'] = df.prediction\n",
        "sc.pp.normalize_total(adata_d, target_sum = 1e4)\n",
        "sc.pp.log1p(adata_d)\n",
        "sc.tl.pca(adata_d)\n",
        "sc.pp.neighbors(adata_d)\n",
        "sc.tl.umap(adata_d)\n",
        "sc.tl.leiden(adata_d, resolution = 0.5)\n",
        "\n",
        "with rc_context({'figure.figsize': (4, 4)}):\n",
        "    sc.pl.umap(adata_d, color = ['leiden', 'prediction'])\n"
      ]
    },
    {
      "cell_type": "code",
      "execution_count": null,
      "id": "f4ade8c2-2ced-473f-b85e-2cf6f4e41c69",
      "metadata": {
        "id": "f4ade8c2-2ced-473f-b85e-2cf6f4e41c69"
      },
      "outputs": [],
      "source": [
        "# Create a column with the difference of the scores between doublet and singlet\n",
        "df['dif'] = df.doublet - df.singlet\n",
        "\n",
        "# Show the distribution of this parameter for barcodes predicted to be doublets\n",
        "sns.displot(df[df.prediction == 'doublet'], x = 'dif')\n",
        "plt.title(f\"Ddoublet vs singlet predicted score distribution\", fontweight=800)\n",
        "\n",
        "# Save a list with the barcodes predicted to be doublets (with a great score difference)\n",
        "doub_l = df[(df.prediction == 'doublet') & (df.dif > 0.5)].index.tolist()"
      ]
    },
    {
      "cell_type": "code",
      "execution_count": null,
      "id": "f0fbe980-e780-41a9-8220-9718412bdd37",
      "metadata": {
        "id": "f0fbe980-e780-41a9-8220-9718412bdd37",
        "outputId": "0ae2d1fc-27e3-46b2-d97f-d5df63f51b45"
      },
      "outputs": [],
      "source": [
        "adata"
      ]
    },
    {
      "cell_type": "code",
      "execution_count": null,
      "id": "d1eb64bb-1289-4a67-84db-466168463e26",
      "metadata": {
        "id": "d1eb64bb-1289-4a67-84db-466168463e26"
      },
      "outputs": [],
      "source": [
        "sc.pp.filter_cells(adata, min_genes = 500)\n",
        "sc.pp.filter_genes(adata, min_cells = 3)"
      ]
    },
    {
      "cell_type": "code",
      "execution_count": null,
      "id": "39fc78f5-f886-4147-bd00-f22ac6001911",
      "metadata": {
        "id": "39fc78f5-f886-4147-bd00-f22ac6001911",
        "outputId": "c9f4f69e-8a31-4316-c3c6-e38e6848a4a0"
      },
      "outputs": [],
      "source": [
        "adata"
      ]
    },
    {
      "cell_type": "code",
      "execution_count": null,
      "id": "562ec4f4-2f4f-4e68-aee7-261177ecaf3e",
      "metadata": {
        "id": "562ec4f4-2f4f-4e68-aee7-261177ecaf3e"
      },
      "outputs": [],
      "source": [
        "adata.obs['doublet'] = adata.obs.index.isin(doub_l)\n",
        "adata= adata[~adata.obs.doublet].copy()"
      ]
    },
    {
      "cell_type": "code",
      "execution_count": null,
      "id": "11b41b49-2b1e-4018-917d-49287e4ed069",
      "metadata": {
        "id": "11b41b49-2b1e-4018-917d-49287e4ed069",
        "outputId": "69ec7c3f-979a-4889-e381-7c44eb9fa2a4"
      },
      "outputs": [],
      "source": [
        "print(f'Terminamos con {adata.n_obs} celulas')"
      ]
    },
    {
      "cell_type": "code",
      "execution_count": null,
      "id": "990acd5a-038d-4715-a596-f5b5a447afc9",
      "metadata": {
        "id": "990acd5a-038d-4715-a596-f5b5a447afc9",
        "outputId": "6f0ef814-6ac3-4c5a-c518-e2cfc7a68462"
      },
      "outputs": [],
      "source": [
        "adata"
      ]
    },
    {
      "cell_type": "markdown",
      "id": "ef938439-0a9e-460a-a153-5bf5ca22d6f5",
      "metadata": {
        "id": "ef938439-0a9e-460a-a153-5bf5ca22d6f5"
      },
      "source": [
        "Guardamos adata tras el filtrado de doublets"
      ]
    },
    {
      "cell_type": "code",
      "execution_count": null,
      "id": "6af70a21-4230-4586-9bc1-9786f43c0f05",
      "metadata": {
        "id": "6af70a21-4230-4586-9bc1-9786f43c0f05"
      },
      "outputs": [],
      "source": [
        "adata.write('adata_dr.h5ad')"
      ]
    },
    {
      "cell_type": "markdown",
      "id": "78ffa40b-4f9f-40ef-819b-f2c74b9450ba",
      "metadata": {
        "id": "78ffa40b-4f9f-40ef-819b-f2c74b9450ba"
      },
      "source": [
        "### QC FILTERING"
      ]
    },
    {
      "cell_type": "code",
      "execution_count": null,
      "id": "782c5e15-6dd8-484a-81c7-33cc80daa296",
      "metadata": {
        "id": "782c5e15-6dd8-484a-81c7-33cc80daa296"
      },
      "outputs": [],
      "source": [
        "adata = sc.read_h5ad('adata_dr.h5ad')"
      ]
    },
    {
      "cell_type": "code",
      "execution_count": null,
      "id": "dda6af19-0746-4ad8-b386-764f2e4f69ba",
      "metadata": {
        "id": "dda6af19-0746-4ad8-b386-764f2e4f69ba",
        "outputId": "06b21d20-f541-439a-84c6-ea834c89e74f"
      },
      "outputs": [],
      "source": [
        "adata"
      ]
    },
    {
      "cell_type": "code",
      "execution_count": null,
      "id": "133c42e8-8487-4d5a-acfa-d6cf56e9c44c",
      "metadata": {
        "id": "133c42e8-8487-4d5a-acfa-d6cf56e9c44c"
      },
      "outputs": [],
      "source": [
        "def is_outlier(adata, metric: str, nmads: int):\n",
        "    M = adata.obs[metric]\n",
        "    outlier = (M < np.median(M) - nmads * median_abs_deviation(M)) | (\n",
        "        np.median(M) + nmads * median_abs_deviation(M) < M\n",
        "    )\n",
        "    return outlier"
      ]
    },
    {
      "cell_type": "code",
      "execution_count": null,
      "id": "6288ed50-1924-4e13-89fe-edee41c4d493",
      "metadata": {
        "id": "6288ed50-1924-4e13-89fe-edee41c4d493"
      },
      "outputs": [],
      "source": [
        "#Calculate the QC covariates or metric\n",
        "\n",
        "# mitochondrial genes\n",
        "adata.var[\"mt\"] = adata.var_names.str.startswith(\"MT-\")\n",
        "# ribosomal genes\n",
        "adata.var[\"ribo\"] = adata.var_names.str.startswith((\"RPS\", \"RPL\"))\n",
        "# hemoglobin genes.\n",
        "adata.var[\"hb\"] = adata.var_names.str.contains((\"^HB[^(P)]\"))"
      ]
    },
    {
      "cell_type": "code",
      "execution_count": null,
      "id": "ca7263d4-9cad-4b57-904f-33797179d047",
      "metadata": {
        "id": "ca7263d4-9cad-4b57-904f-33797179d047",
        "outputId": "d432eef1-e8a6-4ca4-8743-bf1badeea841"
      },
      "outputs": [],
      "source": [
        "#Calculate the respective QC metrics\n",
        "sc.pp.calculate_qc_metrics(\n",
        "    adata, qc_vars=[\"mt\", \"ribo\", \"hb\"], inplace=True, percent_top=[20], log1p=True\n",
        ")\n",
        "adata"
      ]
    },
    {
      "cell_type": "code",
      "execution_count": null,
      "id": "59d646bd-a010-4905-b747-bf82ef4b38db",
      "metadata": {
        "id": "59d646bd-a010-4905-b747-bf82ef4b38db",
        "outputId": "a93cb643-bd00-4810-d3ad-1add0f14deb6"
      },
      "outputs": [],
      "source": [
        "sns.displot(adata.obs[\"total_counts\"], bins=100, kde=False)\n",
        "# sc.pl.violin(adata, 'total_counts')\n",
        "sc.pl.violin(adata, \"pct_counts_mt\")\n",
        "sc.pl.scatter(adata, \"total_counts\", \"n_genes_by_counts\", color=\"pct_counts_mt\")"
      ]
    },
    {
      "cell_type": "code",
      "execution_count": null,
      "id": "0624ed8c-8ca8-43e4-9414-5550da132f90",
      "metadata": {
        "id": "0624ed8c-8ca8-43e4-9414-5550da132f90",
        "outputId": "1a42ce06-7782-4820-aefe-a3efe2b0a395"
      },
      "outputs": [],
      "source": [
        "adata.obs[\"outlier\"] = (\n",
        "    is_outlier(adata, \"log1p_total_counts\", 5)\n",
        "    | is_outlier(adata, \"log1p_n_genes_by_counts\", 5)\n",
        "    | is_outlier(adata, \"pct_counts_in_top_20_genes\", 5)\n",
        ")\n",
        "adata.obs.outlier.value_counts()"
      ]
    },
    {
      "cell_type": "code",
      "execution_count": null,
      "id": "a77c8562-6342-4c6e-9f0a-20550b87bf69",
      "metadata": {
        "id": "a77c8562-6342-4c6e-9f0a-20550b87bf69"
      },
      "outputs": [],
      "source": [
        "adata.obs[\"mt_outlier\"] = is_outlier(adata, \"pct_counts_mt\", 3) | (adata.obs[\"pct_counts_mt\"] > 40)"
      ]
    },
    {
      "cell_type": "code",
      "execution_count": null,
      "id": "7507d915-cd88-4dde-98ea-1c37d295a537",
      "metadata": {
        "id": "7507d915-cd88-4dde-98ea-1c37d295a537",
        "outputId": "5d172ca8-c4e1-4ff5-8f56-89d958e7ddb6"
      },
      "outputs": [],
      "source": [
        "print(f\"Total number of cells: {adata.n_obs}\")\n",
        "adata = adata[(~adata.obs.outlier) & (~adata.obs.mt_outlier)].copy()\n",
        "\n",
        "print(f\"Number of cells after filtering of low quality cells: {adata.n_obs}\")"
      ]
    },
    {
      "cell_type": "code",
      "execution_count": null,
      "id": "78b14ae4-53cf-435d-992d-3a70b0a68347",
      "metadata": {
        "id": "78b14ae4-53cf-435d-992d-3a70b0a68347",
        "outputId": "bce1dd8b-eab0-488d-9894-61427676920d"
      },
      "outputs": [],
      "source": [
        "p1 = sc.pl.scatter(adata, \"total_counts\", \"n_genes_by_counts\", color=\"pct_counts_mt\")"
      ]
    },
    {
      "cell_type": "markdown",
      "id": "62bbc2b3-2da5-4ba0-be66-0c3700dfc019",
      "metadata": {
        "id": "62bbc2b3-2da5-4ba0-be66-0c3700dfc019"
      },
      "source": [
        "CHECKPOINT"
      ]
    },
    {
      "cell_type": "code",
      "execution_count": null,
      "id": "741446ec-e165-45f0-90a7-11b5405b86b9",
      "metadata": {
        "id": "741446ec-e165-45f0-90a7-11b5405b86b9"
      },
      "outputs": [],
      "source": [
        "adata.write('adata_postqc')"
      ]
    },
    {
      "cell_type": "code",
      "execution_count": null,
      "id": "593da695-e4d4-4ff5-850d-c6b4b16d2bce",
      "metadata": {
        "id": "593da695-e4d4-4ff5-850d-c6b4b16d2bce",
        "outputId": "76c79954-b640-4c8d-b2a0-46ab5496d96c"
      },
      "outputs": [],
      "source": [
        "adata"
      ]
    },
    {
      "cell_type": "markdown",
      "id": "96341a6a-ff4f-4159-aefe-0a48daaa5e07",
      "metadata": {
        "id": "96341a6a-ff4f-4159-aefe-0a48daaa5e07"
      },
      "source": [
        "## NORMALIZACION"
      ]
    },
    {
      "cell_type": "code",
      "execution_count": null,
      "id": "80bf8fc7-4e00-404d-b7d6-77ee0323be0a",
      "metadata": {
        "id": "80bf8fc7-4e00-404d-b7d6-77ee0323be0a"
      },
      "outputs": [],
      "source": [
        "adata.layers['counts'] = csr_matrix(adata.X) # Save the non normalized data in a compressed matrix\n",
        "\n",
        "adata.raw = adata # Save the non normalized data counts in the raw atribute\n",
        "sc.pp.normalize_total(adata, target_sum=1e4)\n",
        "sc.pp.log1p(adata)"
      ]
    },
    {
      "cell_type": "code",
      "execution_count": null,
      "id": "aed24405-0182-4d9b-90af-c38675476a2d",
      "metadata": {
        "id": "aed24405-0182-4d9b-90af-c38675476a2d",
        "outputId": "e64e3d5c-d503-4f2b-ee11-3c2dfc65f724"
      },
      "outputs": [],
      "source": [
        "# Select and compute highly variable genes\n",
        "sc.pp.highly_variable_genes(adata,n_top_genes=2000)\n",
        "\n",
        "# Plot variable genes\n",
        "sc.pl.highly_variable_genes(adata)\n",
        "\n",
        "# Actually do the filtering and subset for variable genes in the dataset\n",
        "adata = adata[:, adata.var.highly_variable].copy()\n",
        "\n",
        "adata.layers['hv_counts'] = adata.X.copy() # Save the normalized highly variable counts in a new layer"
      ]
    },
    {
      "cell_type": "code",
      "execution_count": null,
      "id": "b3024a30-1b28-45e1-9c7e-e0ee1cf51072",
      "metadata": {
        "id": "b3024a30-1b28-45e1-9c7e-e0ee1cf51072"
      },
      "outputs": [],
      "source": [
        "# Regress out effects of total counts per cell and the percentage of mitochondrial genes expressed.\n",
        "sc.pp.regress_out(adata, ['total_counts', 'pct_counts_mt'],n_jobs=30)"
      ]
    },
    {
      "cell_type": "code",
      "execution_count": null,
      "id": "33b2a29d-4f72-4a70-9208-a94e9e563023",
      "metadata": {
        "id": "33b2a29d-4f72-4a70-9208-a94e9e563023"
      },
      "outputs": [],
      "source": [
        "# Scale the data to unit variance.\n",
        "sc.pp.scale(adata, max_value=10)\n",
        "\n",
        "# Reduce the dimensionality of the data by running principal component analysis (PCA), which reveals the main axes of variation and denoises the data.\n",
        "sc.tl.pca(adata, svd_solver='arpack')"
      ]
    },
    {
      "cell_type": "code",
      "execution_count": null,
      "id": "c0b80755-30e4-40d6-a913-a456ac4e4d08",
      "metadata": {
        "id": "c0b80755-30e4-40d6-a913-a456ac4e4d08"
      },
      "outputs": [],
      "source": [
        "# Define new function that finds the elbow dimension\n",
        "def PCA_Elbow_fit(data):\n",
        "    model = PCA().fit(data)\n",
        "    explained_variance = model.explained_variance_ratio_\n",
        "    pcs = list(range(1, explained_variance.shape[0]+1))#enumerate(explained_variance,1)\n",
        "    klm = kl(pcs, explained_variance, S=1.0, curve='convex', direction='decreasing')\n",
        "    pcs_used = klm.knee\n",
        "    pc_list = list(range(1, pcs_used+1))\n",
        "    new_data = PCA(n_components= pcs_used, svd_solver='arpack').fit_transform(data)\n",
        "\n",
        "    if pcs_used >50:\n",
        "        pcs_used=50\n",
        "\n",
        "    return pcs_used, new_data, pcs, explained_variance, pc_list"
      ]
    },
    {
      "cell_type": "code",
      "execution_count": null,
      "id": "69a983b4-61ff-4db7-9e69-bebb9444597a",
      "metadata": {
        "id": "69a983b4-61ff-4db7-9e69-bebb9444597a",
        "outputId": "f7c03492-ad5d-44c2-a07a-1115181f948f"
      },
      "outputs": [],
      "source": [
        "# Extract cell x gene data from scanpy annData and create new pandas dataframe\n",
        "\n",
        "new_frame = pd.DataFrame(adata.X, index=adata.obs_names, columns=adata.var_names)\n",
        "\n",
        "pandas_data = new_frame.values\n",
        "\n",
        "# Execute PCA elbow_fitting_funcion\n",
        "dim,new_matrix,pc_ax,pc_ay,col_labels=PCA_Elbow_fit(pandas_data)\n",
        "print(dim)\n",
        "# Neigbours computation and umap\n",
        "sc.pp.neighbors(adata, n_pcs = dim) # compute nearest neighbors\n",
        "sc.tl.umap(adata)\n",
        "\n",
        "# Plot UMAP\n",
        "sc.pl.umap(adata, color = ['Sample'], frameon = False,title=\"NON INTEGRATED SAMPLES\")"
      ]
    },
    {
      "cell_type": "code",
      "execution_count": null,
      "id": "fe9e63a5-1d18-457d-9e33-915a1cefdb20",
      "metadata": {
        "id": "fe9e63a5-1d18-457d-9e33-915a1cefdb20",
        "outputId": "712899ba-6b23-426f-e713-bc4ce32b1c91"
      },
      "outputs": [],
      "source": [
        "sc.pl.umap(adata, color = ['Sample'], legend_loc = 'on data', frameon = False,title=\"NON INTEGRATED SAMPLES\")"
      ]
    },
    {
      "cell_type": "code",
      "execution_count": null,
      "id": "7b107c74-7e84-4da8-8e28-da6c6aa0f3a4",
      "metadata": {
        "id": "7b107c74-7e84-4da8-8e28-da6c6aa0f3a4"
      },
      "outputs": [],
      "source": [
        "adata.write('normalized.h5ad')"
      ]
    },
    {
      "cell_type": "markdown",
      "id": "6d67d562-17b2-4f91-bb56-c3364d315bac",
      "metadata": {
        "id": "6d67d562-17b2-4f91-bb56-c3364d315bac"
      },
      "source": [
        "### INTEGRACION"
      ]
    },
    {
      "cell_type": "code",
      "execution_count": null,
      "id": "OkTxkyB6M_wV",
      "metadata": {
        "colab": {
          "base_uri": "https://localhost:8080/"
        },
        "id": "OkTxkyB6M_wV",
        "outputId": "1a8104b3-1001-4ccb-d1e5-a665cbf2dc58"
      },
      "outputs": [],
      "source": [
        "!pip install harmonypy"
      ]
    },
    {
      "cell_type": "code",
      "execution_count": null,
      "id": "KJw7_omVLYk3",
      "metadata": {
        "id": "KJw7_omVLYk3"
      },
      "outputs": [],
      "source": [
        "file_path = \"/content/drive/MyDrive/TFM_DEF/normalized.h5ad\"\n",
        "adata = sc.read_h5ad(file_path)"
      ]
    },
    {
      "cell_type": "code",
      "execution_count": null,
      "id": "3c407507-f548-43a6-8916-c9b71c682ab7",
      "metadata": {
        "id": "3c407507-f548-43a6-8916-c9b71c682ab7"
      },
      "outputs": [],
      "source": [
        "adata = sc.read_h5ad('normalized.h5ad')"
      ]
    },
    {
      "cell_type": "code",
      "execution_count": null,
      "id": "92627122-9197-4944-9d95-71540b8f97f5",
      "metadata": {
        "id": "92627122-9197-4944-9d95-71540b8f97f5"
      },
      "outputs": [],
      "source": [
        "import scanpy.external as sce"
      ]
    },
    {
      "cell_type": "code",
      "execution_count": null,
      "id": "d44ff989-8179-4c8e-94eb-5b1e0bc8a5c0",
      "metadata": {
        "colab": {
          "base_uri": "https://localhost:8080/"
        },
        "id": "d44ff989-8179-4c8e-94eb-5b1e0bc8a5c0",
        "outputId": "1c55bb6b-f0b7-40f5-f04d-07d59b30872e"
      },
      "outputs": [],
      "source": [
        "sce.pp.harmony_integrate(adata, 'Sample')"
      ]
    },
    {
      "cell_type": "code",
      "execution_count": null,
      "id": "d5e4a554-9dfa-429d-9e16-78e88f8006fc",
      "metadata": {
        "colab": {
          "base_uri": "https://localhost:8080/"
        },
        "id": "d5e4a554-9dfa-429d-9e16-78e88f8006fc",
        "outputId": "97157acd-4ef2-431c-c391-6c54036d8040"
      },
      "outputs": [],
      "source": [
        "adata"
      ]
    },
    {
      "cell_type": "code",
      "execution_count": null,
      "id": "3ba16d68-a434-4685-bd3e-8f017f2dae97",
      "metadata": {
        "id": "3ba16d68-a434-4685-bd3e-8f017f2dae97"
      },
      "outputs": [],
      "source": [
        "# Compute neighbors using scVI model\n",
        "sc.pp.neighbors(adata, use_rep = 'X_pca_harmony', metric=\"correlation\")\n"
      ]
    },
    {
      "cell_type": "code",
      "execution_count": null,
      "id": "WflAxIYIOnRx",
      "metadata": {
        "colab": {
          "base_uri": "https://localhost:8080/"
        },
        "id": "WflAxIYIOnRx",
        "outputId": "bff1d4a8-15f9-4b65-a7cc-a72ad1786aee"
      },
      "outputs": [],
      "source": [
        "!pip install igraph"
      ]
    },
    {
      "cell_type": "code",
      "execution_count": null,
      "id": "Q4u2WFyIPAWu",
      "metadata": {
        "colab": {
          "base_uri": "https://localhost:8080/"
        },
        "id": "Q4u2WFyIPAWu",
        "outputId": "8c9a0c48-4576-4651-a88b-6500fec83a5a"
      },
      "outputs": [],
      "source": [
        "!pip install leidenalg"
      ]
    },
    {
      "cell_type": "code",
      "execution_count": null,
      "id": "4aa04293-a2bc-43ee-a196-d3b32f7b67c9",
      "metadata": {
        "colab": {
          "base_uri": "https://localhost:8080/",
          "height": 857
        },
        "id": "4aa04293-a2bc-43ee-a196-d3b32f7b67c9",
        "outputId": "a81b25f9-932c-4370-94ac-24dc06e89e36"
      },
      "outputs": [],
      "source": [
        "# Generate UMAP and leiden clustering\n",
        "sc.tl.umap(adata, min_dist=0.4)\n",
        "sc.tl.leiden(adata, resolution = 0.7) #key_added=\"leiden_scvi\"\n",
        "\n",
        "print(f\"Plotting integrated data UMAP:\")\n",
        "\n",
        "sc.pl.umap(adata, color = ['Sample'], frameon = False,title=\"INTEGRATED SAMPLES\")\n",
        "sc.pl.umap(adata, color = ['leiden'],legend_loc = 'on data', frameon = False,title=\"LEIDEN CLUSTERING\")"
      ]
    },
    {
      "cell_type": "code",
      "execution_count": null,
      "id": "a7b0557e-8b4b-4461-a716-399cd3197815",
      "metadata": {
        "id": "a7b0557e-8b4b-4461-a716-399cd3197815"
      },
      "outputs": [],
      "source": [
        "adata.write('adata_batch_corrected.h5ad')"
      ]
    },
    {
      "cell_type": "code",
      "execution_count": null,
      "id": "qipAq84sNeXW",
      "metadata": {
        "id": "qipAq84sNeXW"
      },
      "outputs": [],
      "source": [
        "output_path = \"/content/drive/MyDrive/TFM_DEF/adata_batch_corrected.h5ad\"\n",
        "adata.write(output_path)"
      ]
    },
    {
      "cell_type": "markdown",
      "id": "5df5eac9-efe1-4431-ae67-31999665252e",
      "metadata": {
        "id": "5df5eac9-efe1-4431-ae67-31999665252e"
      },
      "source": [
        "## ANNOTATION"
      ]
    },
    {
      "cell_type": "code",
      "execution_count": null,
      "id": "ec0d25c9-559b-4dbd-a9c8-862288f77efb",
      "metadata": {
        "colab": {
          "base_uri": "https://localhost:8080/"
        },
        "id": "ec0d25c9-559b-4dbd-a9c8-862288f77efb",
        "outputId": "33d4f527-18d4-4032-9ceb-8953b47a3c6a"
      },
      "outputs": [],
      "source": [
        "adata"
      ]
    },
    {
      "cell_type": "code",
      "execution_count": null,
      "id": "817b298c-d0b0-46db-b5da-eb46e2936a7e",
      "metadata": {
        "id": "817b298c-d0b0-46db-b5da-eb46e2936a7e"
      },
      "outputs": [],
      "source": [
        "# Define a function that gives a new label to the cells of a cluster (for manual annotation)\n",
        "\n",
        "def relabel_cluster_celltypes(adata,new_label,target_clusters,cluster_key=\"leiden\",cell_type_key=\"cell_type\",inplace=True,new_column_key= None):\n",
        "\n",
        "    values_to_change = adata.obs[cluster_key].isin(target_clusters)\n",
        "\n",
        "    celltypeslist = adata.obs[cell_type_key].to_numpy()\n",
        "\n",
        "    celltypeslist[values_to_change] = new_label\n",
        "\n",
        "    if inplace:\n",
        "\n",
        "        adata.obs[cell_type_key] = celltypeslist\n",
        "\n",
        "    else:\n",
        "        adata.obs[new_column_key] = celltypeslist"
      ]
    },
    {
      "cell_type": "markdown",
      "id": "ebbf802d-5278-43ca-994f-b9dd4dbce0c2",
      "metadata": {
        "id": "ebbf802d-5278-43ca-994f-b9dd4dbce0c2"
      },
      "source": [
        "### FINAL ANNOTATION"
      ]
    },
    {
      "cell_type": "code",
      "execution_count": null,
      "id": "f3e8e4d7-5944-4ebb-877f-1d8acbac28d7",
      "metadata": {
        "id": "f3e8e4d7-5944-4ebb-877f-1d8acbac28d7"
      },
      "outputs": [],
      "source": [
        "adata.obs['cell_type'] = 'Unknown'"
      ]
    },
    {
      "cell_type": "markdown",
      "id": "6273cdf7-eefa-4a3b-91d3-df538fcd228a",
      "metadata": {
        "id": "6273cdf7-eefa-4a3b-91d3-df538fcd228a"
      },
      "source": [
        "## T cells / NK"
      ]
    },
    {
      "cell_type": "code",
      "execution_count": null,
      "id": "06f5e606-c44c-443f-a53c-2310db9e1b26",
      "metadata": {
        "colab": {
          "base_uri": "https://localhost:8080/",
          "height": 490
        },
        "id": "06f5e606-c44c-443f-a53c-2310db9e1b26",
        "outputId": "ab94d985-ef19-4253-dca7-9073fa4a4d72"
      },
      "outputs": [],
      "source": [
        "sc.pl.umap(adata, color=['CD3D','CD3E', 'GZMA', 'PRF1', 'KLRD1'], vmax=1)"
      ]
    },
    {
      "cell_type": "markdown",
      "id": "fe6ccbd9-44f9-4e96-aba3-06ef662db2dd",
      "metadata": {
        "id": "fe6ccbd9-44f9-4e96-aba3-06ef662db2dd"
      },
      "source": [
        "### Cĺúster Macrofagos"
      ]
    },
    {
      "cell_type": "code",
      "execution_count": null,
      "id": "9dbe64eb-694b-4f81-b81c-1ad081fc9880",
      "metadata": {
        "colab": {
          "base_uri": "https://localhost:8080/",
          "height": 448
        },
        "id": "9dbe64eb-694b-4f81-b81c-1ad081fc9880",
        "outputId": "73da1b67-8542-4cff-8463-d711909990ab"
      },
      "outputs": [],
      "source": [
        "sc.pl.umap(adata, color=['CD68', 'C1QB'])"
      ]
    },
    {
      "cell_type": "markdown",
      "id": "1ba27c54-dda0-463d-8e40-f69e8516f25a",
      "metadata": {
        "id": "1ba27c54-dda0-463d-8e40-f69e8516f25a"
      },
      "source": [
        "### Cĺúster Monocitos"
      ]
    },
    {
      "cell_type": "code",
      "execution_count": null,
      "id": "fe8072e8-2cec-42d0-b791-c5a455b68065",
      "metadata": {
        "colab": {
          "base_uri": "https://localhost:8080/",
          "height": 448
        },
        "id": "fe8072e8-2cec-42d0-b791-c5a455b68065",
        "outputId": "6a9f74a9-bbc7-4e61-f5ef-835ad2e31c24"
      },
      "outputs": [],
      "source": [
        "sc.pl.umap(adata, color=['FCN1', 'EREG'])"
      ]
    },
    {
      "cell_type": "markdown",
      "id": "2aeb14bf-16c8-4d06-bb89-ab30be7ed5e7",
      "metadata": {
        "id": "2aeb14bf-16c8-4d06-bb89-ab30be7ed5e7"
      },
      "source": [
        "### Clúster Ductal"
      ]
    },
    {
      "cell_type": "code",
      "execution_count": null,
      "id": "0e8d66bc-cdfe-45d5-a59d-2fd903249c76",
      "metadata": {
        "colab": {
          "base_uri": "https://localhost:8080/",
          "height": 448
        },
        "id": "0e8d66bc-cdfe-45d5-a59d-2fd903249c76",
        "outputId": "d9d3bb17-ce90-4039-e5cd-0b9ae21c1753"
      },
      "outputs": [],
      "source": [
        "sc.pl.umap(adata, color=['CFTR'])"
      ]
    },
    {
      "cell_type": "markdown",
      "id": "6ef280ce-bcc0-459f-b44e-35fc0f94aaf2",
      "metadata": {
        "id": "6ef280ce-bcc0-459f-b44e-35fc0f94aaf2"
      },
      "source": [
        "### Mastocitos"
      ]
    },
    {
      "cell_type": "code",
      "execution_count": null,
      "id": "a1a71403-dba2-4a38-8b4b-97ff4ce59426",
      "metadata": {
        "colab": {
          "base_uri": "https://localhost:8080/",
          "height": 448
        },
        "id": "a1a71403-dba2-4a38-8b4b-97ff4ce59426",
        "outputId": "1d62cb61-4d8c-454f-f438-0f9253a04627"
      },
      "outputs": [],
      "source": [
        "sc.pl.umap(adata, color=['CPA3', 'KIT'])"
      ]
    },
    {
      "cell_type": "markdown",
      "id": "5017c1a1-b4d1-47c9-8fa2-5436401b73aa",
      "metadata": {
        "id": "5017c1a1-b4d1-47c9-8fa2-5436401b73aa"
      },
      "source": [
        "### Fibroblast"
      ]
    },
    {
      "cell_type": "code",
      "execution_count": null,
      "id": "3d0a4902-8de7-43e7-a28b-cb1930ed64e3",
      "metadata": {
        "colab": {
          "base_uri": "https://localhost:8080/",
          "height": 490
        },
        "id": "3d0a4902-8de7-43e7-a28b-cb1930ed64e3",
        "outputId": "b043db52-9c58-4ba7-e112-df57babd0467"
      },
      "outputs": [],
      "source": [
        "sc.pl.umap(adata, color=['COL1A1','ACTA2','COL1A2','PDGFRA', 'PDPN'], vmax = 3)"
      ]
    },
    {
      "cell_type": "markdown",
      "id": "acfa9adc-616d-4e8a-bae8-50e45ca36faf",
      "metadata": {
        "id": "acfa9adc-616d-4e8a-bae8-50e45ca36faf"
      },
      "source": [
        "### Cluster B cells"
      ]
    },
    {
      "cell_type": "code",
      "execution_count": null,
      "id": "8a97099a-80dc-47bc-b8f2-7e312bc8a95b",
      "metadata": {
        "colab": {
          "base_uri": "https://localhost:8080/",
          "height": 493
        },
        "id": "8a97099a-80dc-47bc-b8f2-7e312bc8a95b",
        "outputId": "ca0f60cd-b062-46f2-88b5-b365da581237"
      },
      "outputs": [],
      "source": [
        "sc.pl.umap(adata, color=['CD79A', 'MS4A1', 'JCHAIN', 'MZB1', 'CD79B', 'IGHA2', 'CCR10', 'IGHG2'])"
      ]
    },
    {
      "cell_type": "markdown",
      "id": "4503ebb2-2d44-4756-a51e-28267dc724f8",
      "metadata": {
        "id": "4503ebb2-2d44-4756-a51e-28267dc724f8"
      },
      "source": [
        "### Clúster Endothelial"
      ]
    },
    {
      "cell_type": "code",
      "execution_count": null,
      "id": "1e83f82a-ebcd-405e-9f04-3afcdc690c06",
      "metadata": {
        "colab": {
          "base_uri": "https://localhost:8080/",
          "height": 257
        },
        "id": "1e83f82a-ebcd-405e-9f04-3afcdc690c06",
        "outputId": "208e46dd-69de-46ad-93bf-bab8057fd555"
      },
      "outputs": [],
      "source": [
        "sc.pl.umap(adata, color=['CDH5', 'VWF', 'PLVAP', 'PECAM1'])"
      ]
    },
    {
      "cell_type": "markdown",
      "id": "1ce80b17-cb4d-4892-91f7-56e3bc36e126",
      "metadata": {
        "id": "1ce80b17-cb4d-4892-91f7-56e3bc36e126"
      },
      "source": [
        "### Endocrine cells"
      ]
    },
    {
      "cell_type": "code",
      "execution_count": null,
      "id": "5fab65ad-c8c5-40de-aa95-e8f355ce69cb",
      "metadata": {
        "colab": {
          "base_uri": "https://localhost:8080/",
          "height": 448
        },
        "id": "5fab65ad-c8c5-40de-aa95-e8f355ce69cb",
        "outputId": "4aa691df-c3a2-448c-fcf3-a30cfd3e4576"
      },
      "outputs": [],
      "source": [
        "sc.pl.umap(adata, color=['INS', 'GCG'])"
      ]
    },
    {
      "cell_type": "markdown",
      "id": "e60bc727-b83b-4528-8fbc-25ad42e8eeb2",
      "metadata": {
        "id": "e60bc727-b83b-4528-8fbc-25ad42e8eeb2"
      },
      "source": [
        "### Stellate cells"
      ]
    },
    {
      "cell_type": "code",
      "execution_count": null,
      "id": "f4f29b4e-c315-4e78-8547-83f7e81d323b",
      "metadata": {
        "colab": {
          "base_uri": "https://localhost:8080/",
          "height": 490
        },
        "id": "f4f29b4e-c315-4e78-8547-83f7e81d323b",
        "outputId": "7409ea7c-cbbd-404f-a277-07e53769b7cc"
      },
      "outputs": [],
      "source": [
        "sc.pl.umap(adata, color=['C11orf96', 'ADIRF', 'SPARCL1', 'RGS5', 'MYH11'], vmax = 3)"
      ]
    },
    {
      "cell_type": "markdown",
      "id": "7164f643-6742-495b-a9e5-f4d2c13872d7",
      "metadata": {
        "id": "7164f643-6742-495b-a9e5-f4d2c13872d7"
      },
      "source": [
        "### Schawn cells"
      ]
    },
    {
      "cell_type": "code",
      "execution_count": null,
      "id": "67a7c9f6-b817-49ea-91f7-37869061d19a",
      "metadata": {
        "colab": {
          "base_uri": "https://localhost:8080/",
          "height": 490
        },
        "id": "67a7c9f6-b817-49ea-91f7-37869061d19a",
        "outputId": "dc95c02e-38f3-4656-8462-1f545d12c421"
      },
      "outputs": [],
      "source": [
        "sc.pl.umap(adata, color=['CRYAB', 'ITGB8', 'GPM6B', 'CDH19', 'S100B'], vmax=1)"
      ]
    },
    {
      "cell_type": "markdown",
      "id": "30630050-5035-46cf-880c-a0aaa59a8a41",
      "metadata": {
        "id": "30630050-5035-46cf-880c-a0aaa59a8a41"
      },
      "source": [
        "### TUMOR CELLS"
      ]
    },
    {
      "cell_type": "code",
      "execution_count": null,
      "id": "f8b428ac-46c7-41a7-9a7b-181e2637da02",
      "metadata": {
        "colab": {
          "base_uri": "https://localhost:8080/",
          "height": 488
        },
        "id": "f8b428ac-46c7-41a7-9a7b-181e2637da02",
        "outputId": "d6ea1cc7-0f49-48b1-dadb-e2ef007ea83a"
      },
      "outputs": [],
      "source": [
        "sc.pl.umap(adata, color=['LAMA3', 'KRT17', 'CEACAM6', 'SPINK1', 'SOX9'], vmax = 2)"
      ]
    },
    {
      "cell_type": "code",
      "execution_count": null,
      "id": "0b1c8bfc-634b-44c1-b45c-b752061ae9c3",
      "metadata": {
        "id": "0b1c8bfc-634b-44c1-b45c-b752061ae9c3"
      },
      "outputs": [],
      "source": [
        "relabel_cluster_celltypes(adata,new_label=\"T cells\",target_clusters=[\"0\",\"3\",\"5\",\"11\",\"13\",\"19\"])"
      ]
    },
    {
      "cell_type": "code",
      "execution_count": null,
      "id": "9df9ca9f-9a37-4329-92ff-a3c57a50674b",
      "metadata": {
        "id": "9df9ca9f-9a37-4329-92ff-a3c57a50674b"
      },
      "outputs": [],
      "source": [
        "relabel_cluster_celltypes(adata,new_label=\"PMNs\",target_clusters=[\"4\", \"6\", \"15\", \"16\"])"
      ]
    },
    {
      "cell_type": "code",
      "execution_count": null,
      "id": "fbf1fd51-d0bc-4442-99de-d15cbfc07c92",
      "metadata": {
        "id": "fbf1fd51-d0bc-4442-99de-d15cbfc07c92"
      },
      "outputs": [],
      "source": [
        "relabel_cluster_celltypes(adata,new_label=\"Mast cells\",target_clusters=[\"7\"])"
      ]
    },
    {
      "cell_type": "code",
      "execution_count": null,
      "id": "682d0f30-d6b3-4d87-b7cf-ad002d432337",
      "metadata": {
        "id": "682d0f30-d6b3-4d87-b7cf-ad002d432337"
      },
      "outputs": [],
      "source": [
        "relabel_cluster_celltypes(adata,new_label=\"Fibroblasts\",target_clusters=[\"1\",\"21\"])"
      ]
    },
    {
      "cell_type": "code",
      "execution_count": null,
      "id": "8985b977-d5bd-461f-8330-9fb556f5a895",
      "metadata": {
        "id": "8985b977-d5bd-461f-8330-9fb556f5a895"
      },
      "outputs": [],
      "source": [
        "relabel_cluster_celltypes(adata,new_label=\"B cells\",target_clusters=[\"9\"])"
      ]
    },
    {
      "cell_type": "code",
      "execution_count": null,
      "id": "b862be56-6fd8-4fae-b1ef-48426dab3296",
      "metadata": {
        "id": "b862be56-6fd8-4fae-b1ef-48426dab3296"
      },
      "outputs": [],
      "source": [
        "relabel_cluster_celltypes(adata,new_label=\"Endothelial cells\",target_clusters=[\"10\"])"
      ]
    },
    {
      "cell_type": "code",
      "execution_count": null,
      "id": "bd158caf-1e1d-4817-9f81-5e982287f60a",
      "metadata": {
        "id": "bd158caf-1e1d-4817-9f81-5e982287f60a"
      },
      "outputs": [],
      "source": [
        "relabel_cluster_celltypes(adata,new_label=\"Endocrine cells\",target_clusters=[\"20\"])"
      ]
    },
    {
      "cell_type": "code",
      "execution_count": null,
      "id": "f4179801-f585-4c90-a577-1a4b06dd062d",
      "metadata": {
        "id": "f4179801-f585-4c90-a577-1a4b06dd062d"
      },
      "outputs": [],
      "source": [
        "relabel_cluster_celltypes(adata,new_label=\"Stellate cells\",target_clusters=[\"12\"])"
      ]
    },
    {
      "cell_type": "code",
      "execution_count": null,
      "id": "55aa3997-66e4-43a8-8d97-3551b8541c4b",
      "metadata": {
        "id": "55aa3997-66e4-43a8-8d97-3551b8541c4b"
      },
      "outputs": [],
      "source": [
        "relabel_cluster_celltypes(adata,new_label=\"Schwann cells\",target_clusters=[\"18\"])"
      ]
    },
    {
      "cell_type": "code",
      "execution_count": null,
      "id": "d30f9012-6898-4fb6-91c9-8847c6c7594f",
      "metadata": {
        "id": "d30f9012-6898-4fb6-91c9-8847c6c7594f"
      },
      "outputs": [],
      "source": [
        "relabel_cluster_celltypes(adata,new_label=\"Tumor cells\",target_clusters=[\"2\",\"8\", \"14\", \"17\"])"
      ]
    },
    {
      "cell_type": "code",
      "execution_count": null,
      "id": "W1_3CjFcY4hU",
      "metadata": {
        "id": "W1_3CjFcY4hU"
      },
      "outputs": [],
      "source": [
        "# Remove the old color information for 'cell_type' to force scanpy to generate a new palette\n",
        "if 'cell_type_colors' in adata.uns:\n",
        "    del adata.uns['cell_type_colors']"
      ]
    },
    {
      "cell_type": "code",
      "execution_count": null,
      "id": "07f45ddc-1f1b-4934-9994-ea9441f3fdbc",
      "metadata": {
        "id": "07f45ddc-1f1b-4934-9994-ea9441f3fdbc"
      },
      "outputs": [],
      "source": [
        "adata.write('adata_anotado.h5ad')"
      ]
    },
    {
      "cell_type": "code",
      "execution_count": null,
      "id": "33c880fb-96bf-4fbc-8975-a490d0a619d1",
      "metadata": {
        "colab": {
          "base_uri": "https://localhost:8080/"
        },
        "id": "33c880fb-96bf-4fbc-8975-a490d0a619d1",
        "outputId": "a7bf2117-914f-4625-cbe1-8965862e48fc"
      },
      "outputs": [],
      "source": [
        "adata.obs['cell_type'].unique()"
      ]
    },
    {
      "cell_type": "code",
      "execution_count": null,
      "id": "hPmUh9F2ZUqh",
      "metadata": {
        "id": "hPmUh9F2ZUqh"
      },
      "outputs": [],
      "source": [
        "output_path = \"/content/drive/MyDrive/TFM_DEF/GSE217845.h5ad\"\n",
        "adata.write(output_path)"
      ]
    }
  ],
  "metadata": {
    "accelerator": "GPU",
    "colab": {
      "gpuType": "A100",
      "machine_shape": "hm",
      "provenance": []
    },
    "kernelspec": {
      "display_name": "base",
      "language": "python",
      "name": "python3"
    },
    "language_info": {
      "codemirror_mode": {
        "name": "ipython",
        "version": 3
      },
      "file_extension": ".py",
      "mimetype": "text/x-python",
      "name": "python",
      "nbconvert_exporter": "python",
      "pygments_lexer": "ipython3",
      "version": "3.12.2"
    }
  },
  "nbformat": 4,
  "nbformat_minor": 5
}
