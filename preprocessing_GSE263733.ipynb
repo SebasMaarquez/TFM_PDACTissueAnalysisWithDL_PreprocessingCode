{
 "cells": [
  {
   "cell_type": "code",
   "execution_count": null,
   "id": "dbc11ebe-5f4f-4c08-85d8-b3ddf11bec93",
   "metadata": {},
   "outputs": [],
   "source": [
    "#dependencies\n",
    "!pip install kneed\n",
    "# Load the required modules\n",
    "import numpy as np\n",
    "import pandas as pd\n",
    "import scanpy as sc\n",
    "import matplotlib.pyplot as plt\n",
    "import seaborn as sns\n",
    "import scvi\n",
    "from scipy.sparse import csr_matrix\n",
    "from sklearn.decomposition import PCA\n",
    "import warnings\n",
    "from scipy.stats import median_abs_deviation\n",
    "import os\n",
    "import pickle as pkl\n",
    "from kneed import KneeLocator as kl\n",
    "import scrublet as scr\n",
    "import os\n",
    "# Ignore the warning messages\n",
    "warnings.filterwarnings(\"ignore\")"
   ]
  },
  {
   "cell_type": "code",
   "execution_count": null,
   "id": "a95d7a16-d47c-48c8-91b5-333652aa788d",
   "metadata": {},
   "outputs": [],
   "source": [
    "import scanpy.external as sce"
   ]
  },
  {
   "cell_type": "code",
   "execution_count": null,
   "id": "a3b3f5c8-9549-40a4-80df-4e49723d2d1c",
   "metadata": {},
   "outputs": [],
   "source": [
    "!ls"
   ]
  },
  {
   "cell_type": "code",
   "execution_count": null,
   "id": "46a29df5-7343-411b-a273-62805c27fdef",
   "metadata": {},
   "outputs": [],
   "source": [
    "# Path of folder\n",
    "ruta_carpeta = \"./adatas\"\n",
    "\n",
    "# List to store all the AnnData objects\n",
    "adatas = []\n",
    "\n",
    "# Go through all the files in the folder \n",
    "for archivo in os.listdir(ruta_carpeta):\n",
    "    ruta_archivo = os.path.join(ruta_carpeta, archivo)\n",
    "    # Verify if the file is valid for AnnData (e.g., .h5ad, .loom, .mtx, etc.)\n",
    "    if os.path.isfile(ruta_archivo) and archivo.endswith((\".h5ad\", \".loom\", \".mtx\")):\n",
    "        try:\n",
    "            # Load the file as AnnData\n",
    "            adata = sc.read_h5ad(ruta_archivo)\n",
    "            adata.var_names_make_unique()\n",
    "            adata.obs_names_make_unique()\n",
    "            adatas.append(adata)\n",
    "            print(f\"Loaded: {archivo}\")\n",
    "        except Exception as e:\n",
    "            print(f\"Error when loading {archivo}: {e}\")\n",
    "\n",
    "# Result: list of AnnData objects\n",
    "print(f\"Loaded {len(adatas)} AnnData files.\")\n"
   ]
  },
  {
   "cell_type": "code",
   "execution_count": null,
   "id": "06262f83-8f64-454a-8601-a4666a6f1f57",
   "metadata": {},
   "outputs": [],
   "source": [
    "gene_sets = [set(adata.var_names) for adata in adatas]\n",
    "\n",
    "# Find the intersection of genes between adatas\n",
    "shared_genes = set.intersection(*gene_sets)\n",
    "\n",
    "# Result: number of shared genes\n",
    "print(f\"Number of shared genes: {len(shared_genes)}\")"
   ]
  },
  {
   "cell_type": "code",
   "execution_count": null,
   "id": "790926c4-c46c-4017-87c7-2780a63535e7",
   "metadata": {},
   "outputs": [],
   "source": [
    "adata = sc.concat(adatas)"
   ]
  },
  {
   "cell_type": "code",
   "execution_count": null,
   "id": "d8aa0ae1-c528-41b5-a0b7-33d72c7c34e5",
   "metadata": {},
   "outputs": [],
   "source": [
    "adata.obs"
   ]
  },
  {
   "cell_type": "code",
   "execution_count": null,
   "id": "6398238d-815f-4c15-bad9-b893503bc984",
   "metadata": {},
   "outputs": [],
   "source": [
    "adata.write(\"adata_raw.h5ad\")"
   ]
  },
  {
   "cell_type": "code",
   "execution_count": null,
   "id": "27f5f11d-fb93-451f-893e-2ba021f92da8",
   "metadata": {},
   "outputs": [],
   "source": [
    "adata = sc.read_h5ad(\"adata_raw.h5ad\")"
   ]
  },
  {
   "cell_type": "code",
   "execution_count": null,
   "id": "77e17373-aadf-47a3-94d0-5c79c24bab18",
   "metadata": {},
   "outputs": [],
   "source": [
    "adata.X.max(), adata.X.min()"
   ]
  },
  {
   "cell_type": "code",
   "execution_count": null,
   "id": "6cba1de5-62e6-4d54-ad0e-b357ef1e1006",
   "metadata": {},
   "outputs": [],
   "source": [
    "def is_outlier(adata, metric: str, nmads: int):\n",
    "    M = adata.obs[metric]\n",
    "    outlier = (M < np.median(M) - nmads * median_abs_deviation(M)) | (\n",
    "        np.median(M) + nmads * median_abs_deviation(M) < M\n",
    "    )\n",
    "    return outlier"
   ]
  },
  {
   "cell_type": "code",
   "execution_count": null,
   "id": "d245ce4c-44f7-4f3a-a070-d92b101f4050",
   "metadata": {},
   "outputs": [],
   "source": [
    "#Calculate the QC covariates or metric\n",
    "\n",
    "# mitochondrial genes\n",
    "adata.var[\"mt\"] = adata.var_names.str.startswith(\"MT-\")\n",
    "# ribosomal genes\n",
    "adata.var[\"ribo\"] = adata.var_names.str.startswith((\"RPS\", \"RPL\"))\n",
    "# hemoglobin genes.\n",
    "adata.var[\"hb\"] = adata.var_names.str.contains((\"^HB[^(P)]\"))"
   ]
  },
  {
   "cell_type": "code",
   "execution_count": null,
   "id": "47619dce-5671-4709-b3ff-b9410a3a0f50",
   "metadata": {},
   "outputs": [],
   "source": [
    "#Calculate the respective QC metrics \n",
    "sc.pp.calculate_qc_metrics(\n",
    "    adata, qc_vars=[\"mt\", \"ribo\", \"hb\"], inplace=True, percent_top=[20], log1p=True\n",
    ")\n",
    "adata"
   ]
  },
  {
   "cell_type": "code",
   "execution_count": null,
   "id": "7b3f4e5c-fb12-4969-8d69-d733bb300fd3",
   "metadata": {},
   "outputs": [],
   "source": [
    "sns.displot(adata.obs[\"total_counts\"], bins=100, kde=False)\n",
    "# sc.pl.violin(adata, 'total_counts')\n",
    "sc.pl.violin(adata, \"pct_counts_mt\")\n",
    "sc.pl.scatter(adata, \"total_counts\", \"n_genes_by_counts\", color=\"pct_counts_mt\")"
   ]
  },
  {
   "cell_type": "code",
   "execution_count": null,
   "id": "8240e5c4-93ed-4c94-a40e-cd5c1f1035f2",
   "metadata": {},
   "outputs": [],
   "source": [
    "adata.obs[\"outlier\"] = (\n",
    "    is_outlier(adata, \"log1p_total_counts\", 5)\n",
    "    | is_outlier(adata, \"log1p_n_genes_by_counts\", 5)\n",
    "    | is_outlier(adata, \"pct_counts_in_top_20_genes\", 5)\n",
    ")\n",
    "adata.obs.outlier.value_counts()"
   ]
  },
  {
   "cell_type": "code",
   "execution_count": null,
   "id": "d4e465ec-1212-4c7c-b65e-4b5a91282685",
   "metadata": {},
   "outputs": [],
   "source": [
    "adata.obs[\"mt_outlier\"] = is_outlier(adata, \"pct_counts_mt\", 3) | (adata.obs[\"pct_counts_mt\"] > 40)"
   ]
  },
  {
   "cell_type": "code",
   "execution_count": null,
   "id": "1b4301cc-d96c-40f2-bc65-7791f12ae5a2",
   "metadata": {},
   "outputs": [],
   "source": [
    "print(f\"Total number of cells: {adata.n_obs}\")\n",
    "adata = adata[(~adata.obs.outlier) & (~adata.obs.mt_outlier)].copy()\n",
    "\n",
    "print(f\"Number of cells after filtering of low quality cells: {adata.n_obs}\")"
   ]
  },
  {
   "cell_type": "code",
   "execution_count": null,
   "id": "649cfd1a-12a6-43a0-9d44-fd9cf1d15b74",
   "metadata": {},
   "outputs": [],
   "source": [
    "p1 = sc.pl.scatter(adata, \"total_counts\", \"n_genes_by_counts\", color=\"pct_counts_mt\")"
   ]
  },
  {
   "cell_type": "code",
   "execution_count": null,
   "id": "d0ca4bcb-1abc-4a22-a425-f19c886ba160",
   "metadata": {},
   "outputs": [],
   "source": [
    "adata.layers['counts'] = csr_matrix(adata.X) # Save the non normalized data in a compressed matrix\n",
    "    \n",
    "adata.raw = adata # Save the non normalized data counts in the raw atribute\n",
    "sc.pp.normalize_total(adata, target_sum=1e4) \n",
    "sc.pp.log1p(adata)"
   ]
  },
  {
   "cell_type": "code",
   "execution_count": null,
   "id": "6b148bd9-b4fa-4087-aa56-5b5d23b9eb18",
   "metadata": {},
   "outputs": [],
   "source": [
    "# Select and compute highly variable genes \n",
    "sc.pp.highly_variable_genes(adata,n_top_genes=2000)\n",
    "\n",
    "# Plot variable genes\n",
    "sc.pl.highly_variable_genes(adata)\n",
    "\n",
    "# Actually do the filtering and subset for variable genes in the dataset\n",
    "adata = adata[:, adata.var.highly_variable].copy()\n",
    "\n",
    "adata.layers['hv_counts'] = adata.X.copy() # Save the normalized highly variable counts in a new layer"
   ]
  },
  {
   "cell_type": "code",
   "execution_count": null,
   "id": "f82a83d5-6a5c-4be2-97c4-e387a8c18875",
   "metadata": {},
   "outputs": [],
   "source": [
    "# Reduce the dimensionality of the data by running principal component analysis (PCA), which reveals the main axes of variation and denoises the data.\n",
    "sc.tl.pca(adata, svd_solver='arpack')"
   ]
  },
  {
   "cell_type": "code",
   "execution_count": null,
   "id": "c2244597-6293-4cad-931b-1472d3eb736b",
   "metadata": {},
   "outputs": [],
   "source": [
    "# Define new function that finds the elbow dimension \n",
    "def PCA_Elbow_fit(data):\n",
    "    model = PCA().fit(data)\n",
    "    explained_variance = model.explained_variance_ratio_\n",
    "    pcs = list(range(1, explained_variance.shape[0]+1))#enumerate(explained_variance,1)\n",
    "    klm = kl(pcs, explained_variance, S=1.0, curve='convex', direction='decreasing')\n",
    "    pcs_used = klm.knee\n",
    "    pc_list = list(range(1, pcs_used+1))\n",
    "    new_data = PCA(n_components= pcs_used, svd_solver='arpack').fit_transform(data)\n",
    "\n",
    "    if pcs_used >50:\n",
    "        pcs_used=50\n",
    "        \n",
    "    return pcs_used, new_data, pcs, explained_variance, pc_list"
   ]
  },
  {
   "cell_type": "code",
   "execution_count": null,
   "id": "b85a9d3b-64f7-48ff-b953-206efeb66192",
   "metadata": {},
   "outputs": [],
   "source": [
    "# Extract cell x gene data from scanpy annData and create new pandas dataframe\n",
    "\n",
    "new_frame = pd.DataFrame(adata.X, index=adata.obs_names, columns=adata.var_names)\n",
    "\n",
    "pandas_data = new_frame.values\n",
    "\n",
    "# Execute PCA elbow_fitting_funcion\n",
    "dim,new_matrix,pc_ax,pc_ay,col_labels=PCA_Elbow_fit(pandas_data)\n",
    "print(dim)\n",
    "\n",
    "# Neigbours computation and umap\n",
    "sc.pp.neighbors(adata, n_pcs = dim) # compute nearest neighbors\n",
    "sc.tl.umap(adata)\n",
    "\n",
    "# Plot UMAP\n",
    "sc.pl.umap(adata, color = ['Sample'], frameon = False,title=\"NON INTEGRATED SAMPLES\")"
   ]
  },
  {
   "cell_type": "code",
   "execution_count": null,
   "id": "625a73a2-a664-4b73-9acc-5cf9f08e6b0d",
   "metadata": {},
   "outputs": [],
   "source": [
    "sc.pl.umap(adata, color = ['Sample'], frameon = False,title=\"NON INTEGRATED SAMPLES\")"
   ]
  },
  {
   "cell_type": "markdown",
   "id": "9bc0ebf1-535a-4603-bc12-ae2d8c746249",
   "metadata": {},
   "source": [
    "### INTEGRACION"
   ]
  },
  {
   "cell_type": "code",
   "execution_count": null,
   "id": "f3c58752-606e-40f8-8ead-19cbfea28dd6",
   "metadata": {},
   "outputs": [],
   "source": [
    "sce.pp.harmony_integrate(adata, 'Sample')"
   ]
  },
  {
   "cell_type": "code",
   "execution_count": null,
   "id": "0ffb336e-538a-436f-8d4e-3caf1ed08a7f",
   "metadata": {},
   "outputs": [],
   "source": [
    "# Compute neighbors using scVI model\n",
    "sc.pp.neighbors(adata, use_rep = 'X_pca_harmony', metric=\"correlation\")\n"
   ]
  },
  {
   "cell_type": "code",
   "execution_count": null,
   "id": "2d781969-055c-49db-923f-36c5487e31ed",
   "metadata": {},
   "outputs": [],
   "source": [
    "# Generate UMAP and leiden clustering\n",
    "sc.tl.umap(adata, min_dist=0.4)\n",
    "sc.tl.leiden(adata, resolution = 0.7) #key_added=\"leiden_scvi\"\n",
    "\n",
    "print(f\"Plotting integrated data UMAP:\")\n",
    "\n",
    "sc.pl.umap(adata, color = ['Sample'], frameon = False,title=\"INTEGRATED SAMPLES\")\n",
    "sc.pl.umap(adata, color = ['leiden'],legend_loc = 'on data', frameon = False,title=\"LEIDEN CLUSTERING\")"
   ]
  },
  {
   "cell_type": "code",
   "execution_count": null,
   "id": "54d67962-1e46-4826-970f-2436b5cac92c",
   "metadata": {},
   "outputs": [],
   "source": [
    "# Define a function that gives a new label to the cells of a cluster (for manual annotation)\n",
    "\n",
    "def relabel_cluster_celltypes(adata,new_label,target_clusters,cluster_key=\"leiden\",cell_type_key=\"cell_type\",inplace=True,new_column_key= None):\n",
    "\n",
    "    values_to_change = adata.obs[cluster_key].isin(target_clusters)\n",
    "\n",
    "    celltypeslist = adata.obs[cell_type_key].to_numpy()\n",
    "\n",
    "    celltypeslist[values_to_change] = new_label\n",
    "\n",
    "    if inplace:\n",
    "\n",
    "        adata.obs[cell_type_key] = celltypeslist\n",
    "\n",
    "    else:\n",
    "        adata.obs[new_column_key] = celltypeslist"
   ]
  },
  {
   "cell_type": "code",
   "execution_count": null,
   "id": "73af3be8-47f9-4679-a346-94ee8df1671b",
   "metadata": {},
   "outputs": [],
   "source": [
    "adata.obs['cell_type'] = 'Unknown'"
   ]
  },
  {
   "cell_type": "code",
   "execution_count": null,
   "id": "c9e38d2d-7728-4ad6-9afa-7b03c6fabdd1",
   "metadata": {},
   "outputs": [],
   "source": [
    "curated_dict = {\"Tumor cells\": ['EPCAM', \"CDH1\", \"KRT19\", \"KRT7\", \"SOX9\"],\n",
    "                \"Fibroblasts\": [\"DCN\",\"FBLN1\",\"LUM\"],\n",
    "                \"T CD4\": [\"CD4\",\"GATA3\",\"FOXP3\",\"IL7R\"],\n",
    "                \"T CD8\": [\"GZMB\",\"CD8A\",\"PRF1\"],\n",
    "                \"B cell\" : ['VPREB3', 'CD19', 'MS4A1'],\n",
    "                \"Stellate cells\": [\"PDGFRB\"],\n",
    "                \"Endothelial cells\":[\"VWF\",\"EGFL7\",\"EMCN\"],\n",
    "                \"Macrophages\": [\"CD68\",\"CD14\",\"CD163\"],\n",
    "                \"Dendritic cells\": [\"CD1C\"],\n",
    "                \"Acinar cells\": [\"KLK1\",\"PRSS3\",\"CELA2B\"],\n",
    "                \"Alpha cells\":[\"GCG\",\"PAX6\",\"CHGB\"],\n",
    "                \"Plasma cells\":[\"MZB1\",\"TNFRSF17\",\"FKBP11\",\"SSR4\"],\n",
    "                \"Mast cells\":[\"KIT\", \"TPSAB1\",\"CPA3\"],\n",
    "                \"my-CAF\":[\"FAP\",\"PDPN\",\"ACTA2\"]\n",
    "                }"
   ]
  },
  {
   "cell_type": "markdown",
   "id": "70f52f05-3228-4509-8055-7c6013c32618",
   "metadata": {},
   "source": [
    "## Tumor cells"
   ]
  },
  {
   "cell_type": "code",
   "execution_count": null,
   "id": "9cc5c0b9-3587-4603-bb13-3067c4103cc2",
   "metadata": {},
   "outputs": [],
   "source": [
    "sc.pl.umap(adata,color=curated_dict[\"Tumor cells\"],frameon=False,use_raw=True, vmax= 20)"
   ]
  },
  {
   "cell_type": "code",
   "execution_count": null,
   "id": "9f7411d5-00b0-42f8-8985-8a727fb82138",
   "metadata": {},
   "outputs": [],
   "source": [
    "relabel_cluster_celltypes(adata,new_label=\"Tumor cells\",target_clusters=[\"3\",\"13\",\"16\",\"19\"])"
   ]
  },
  {
   "cell_type": "markdown",
   "id": "37be2a16-3206-4208-ac03-be3d050a2c4b",
   "metadata": {},
   "source": [
    "## Fibroblasts"
   ]
  },
  {
   "cell_type": "code",
   "execution_count": null,
   "id": "1f651a41-edf7-4732-b8dc-4220eb2c84be",
   "metadata": {},
   "outputs": [],
   "source": [
    "sc.pl.umap(adata,color=curated_dict[\"Fibroblasts\"],frameon=False, vmax= 100)"
   ]
  },
  {
   "cell_type": "code",
   "execution_count": null,
   "id": "352dd0c3-3760-42cb-b112-e59813ff7d7d",
   "metadata": {},
   "outputs": [],
   "source": [
    "sc.pl.umap(adata,color=curated_dict[\"my-CAF\"],frameon=False,use_raw=True, vmax = 100)"
   ]
  },
  {
   "cell_type": "code",
   "execution_count": null,
   "id": "25b04866-944b-4ba1-8777-cdc75605ec46",
   "metadata": {},
   "outputs": [],
   "source": [
    "relabel_cluster_celltypes(adata,new_label=\"Fibroblasts\",target_clusters=[\"8\"])"
   ]
  },
  {
   "cell_type": "markdown",
   "id": "9b9db099-42d1-4728-830c-32ece16fdd37",
   "metadata": {},
   "source": [
    "## Endothelial cells"
   ]
  },
  {
   "cell_type": "code",
   "execution_count": null,
   "id": "26e37dab-c8fa-49da-a264-9a99b82d1ca9",
   "metadata": {},
   "outputs": [],
   "source": [
    "sc.pl.umap(adata,color=curated_dict[\"Endothelial cells\"],frameon=False,use_raw=True, vmax = 30)"
   ]
  },
  {
   "cell_type": "code",
   "execution_count": null,
   "id": "3057b3dd-9f31-4d5e-97dd-f0b24a339316",
   "metadata": {},
   "outputs": [],
   "source": [
    "relabel_cluster_celltypes(adata,new_label=\"Endothelial Cells\", target_clusters=[\"14\"])"
   ]
  },
  {
   "cell_type": "markdown",
   "id": "fce51dea-244a-401a-afaa-6ba6ae08e150",
   "metadata": {},
   "source": [
    "## B cells"
   ]
  },
  {
   "cell_type": "code",
   "execution_count": null,
   "id": "61180ca9-78de-4626-8f24-87c32584716f",
   "metadata": {},
   "outputs": [],
   "source": [
    "sc.pl.umap(adata,color=curated_dict[\"B cell\"],frameon=False,use_raw=True, vmax= 10)"
   ]
  },
  {
   "cell_type": "code",
   "execution_count": null,
   "id": "41f409dc-15dc-4d9f-a7ac-bebad0d46461",
   "metadata": {},
   "outputs": [],
   "source": [
    "relabel_cluster_celltypes(adata,new_label=\"B cells\",target_clusters=[\"7\"])"
   ]
  },
  {
   "cell_type": "markdown",
   "id": "a2b8f387-6cd5-49ab-91ba-810f437337ec",
   "metadata": {},
   "source": [
    "### T/NK Cells"
   ]
  },
  {
   "cell_type": "code",
   "execution_count": null,
   "id": "abf73005-9ba1-4bfd-942c-7f21dc1f9fb5",
   "metadata": {},
   "outputs": [],
   "source": [
    "#General T cells\n",
    "sc.pl.umap(adata, color=[\"CD3D\", \"CD3E\", \"CD3G\", \"CD5\", \"CD7\", \"CD8A\", \"CD4\", \"CD28\"], vmax= 10)"
   ]
  },
  {
   "cell_type": "code",
   "execution_count": null,
   "id": "3d312998-900e-487e-a8af-33802b4e710a",
   "metadata": {},
   "outputs": [],
   "source": [
    "#T CD4 Helper\n",
    "sc.pl.umap(adata, color=[\"CD4\", \"CD3D\", \"IL7R\", \"FOXP3\", \"CTLA4\", \"CXCR5\", \"GATA3\"], vmax=20)"
   ]
  },
  {
   "cell_type": "code",
   "execution_count": null,
   "id": "a7c19324-b54a-469b-80a7-537c5b76e131",
   "metadata": {},
   "outputs": [],
   "source": [
    "#T CD8 Cytotoxic\n",
    "sc.pl.umap(adata, color=[\"CD8A\", \"CD8B\", \"GZMK\", \"PRF1\", \"GZMA\", \"IFNG\", \"CD69\", \"NKG7\"], vmax = 50)"
   ]
  },
  {
   "cell_type": "code",
   "execution_count": null,
   "id": "1a3d2a2c-0f94-4ad8-9162-6829fc25c14f",
   "metadata": {},
   "outputs": [],
   "source": [
    "#NK\n",
    "sc.pl.umap(adata, color=[\"NKG7\", \"KLRD1\", \"KLRB1\", \"NCAM1\", \"GZMB\", \"GZMK\", \"IFNG\"], vmax = 50)"
   ]
  },
  {
   "cell_type": "code",
   "execution_count": null,
   "id": "ce75023e-aa3c-492c-b278-9ea044e8c156",
   "metadata": {},
   "outputs": [],
   "source": [
    "#Tregs\n",
    "sc.pl.umap(adata, color=[\"FOXP3\", \"CD4\", \"CTLA4\", \"IL10\"], vmax = 20)"
   ]
  },
  {
   "cell_type": "code",
   "execution_count": null,
   "id": "4dc7d184-bdca-45ee-829e-e1ad23133995",
   "metadata": {},
   "outputs": [],
   "source": [
    "relabel_cluster_celltypes(adata,new_label=\"T cells\",target_clusters=[\"0\", \"1\", \"2\", \"6\", \"9\", \"11\", \"15\"])"
   ]
  },
  {
   "cell_type": "markdown",
   "id": "309c3e83-d323-4727-b019-34b57b417753",
   "metadata": {},
   "source": [
    "## Myeloid cells: (neutrophils, macrophages, eosinophils, basophils, monocytes and dendritic cells)"
   ]
  },
  {
   "cell_type": "code",
   "execution_count": null,
   "id": "0fa8a7f8-70b5-4d42-9e01-986feb5e7e2b",
   "metadata": {},
   "outputs": [],
   "source": [
    "#Neutrophils\n",
    "sc.pl.umap(adata, color=['CEACAM1', 'ELANE', 'MPO', 'S100A8', 'S100A9'], vmax = 100)"
   ]
  },
  {
   "cell_type": "code",
   "execution_count": null,
   "id": "24229e2a-6ce1-4951-bc3e-e1a1c5a0a4ad",
   "metadata": {},
   "outputs": [],
   "source": [
    "#Macrophages\n",
    "sc.pl.umap(adata, color=['CD68', 'CD163', 'CSF1R', 'ITGAM', 'TLR4'], vmax = 50)"
   ]
  },
  {
   "cell_type": "code",
   "execution_count": null,
   "id": "fdb0bd00-122e-48fb-9f1e-9f481f7f2100",
   "metadata": {},
   "outputs": [],
   "source": [
    "#Eosinophils\n",
    "sc.pl.umap(adata, color=['IL5RA', 'EGF', 'CCR3'], vmax= 50)"
   ]
  },
  {
   "cell_type": "code",
   "execution_count": null,
   "id": "17ff187b-3f01-42e4-8a7e-730688f7c8e1",
   "metadata": {},
   "outputs": [],
   "source": [
    "#Basophils\n",
    "sc.pl.umap(adata, color=['KIT', 'FCER1A'], vmax= 20)"
   ]
  },
  {
   "cell_type": "code",
   "execution_count": null,
   "id": "2a0cd52a-14e7-4cc1-b654-b149765f8792",
   "metadata": {},
   "outputs": [],
   "source": [
    "#Monocytes\n",
    "sc.pl.umap(adata, color=['CD14', 'CSF1R', 'CCR2'], vmax = 40)"
   ]
  },
  {
   "cell_type": "code",
   "execution_count": null,
   "id": "35b3d7e3-468f-4945-a2f5-e6e023683f02",
   "metadata": {},
   "outputs": [],
   "source": [
    "#Dendritic cells\n",
    "sc.pl.umap(adata, color=['CD80', 'CD86', 'CLEC9A', 'IRF8'], vmax = 20)"
   ]
  },
  {
   "cell_type": "code",
   "execution_count": null,
   "id": "0da7a9cf-2d06-4734-97c8-818f19a5b0b0",
   "metadata": {},
   "outputs": [],
   "source": [
    "relabel_cluster_celltypes(adata,new_label=\"Myeloid Cells \",target_clusters=[\"4\",\"5\",\"10\",\"12\",\"18\"])"
   ]
  },
  {
   "cell_type": "markdown",
   "id": "8c8395d2-4fdd-4deb-a76d-4fed33ffcb27",
   "metadata": {},
   "source": [
    "## Mast cells"
   ]
  },
  {
   "cell_type": "code",
   "execution_count": null,
   "id": "4b3b5de8-daf9-46ad-a681-49b39fb47998",
   "metadata": {},
   "outputs": [],
   "source": [
    "sc.pl.umap(adata, color=[\"TPSAB1\", \"TPSB2\", \"CPA3\", \"MS4A2\", \"KIT\", \"GATA2\"], vmax = 100)"
   ]
  },
  {
   "cell_type": "code",
   "execution_count": null,
   "id": "87bb92ea-efe6-4e68-8abd-53f02e4c1026",
   "metadata": {},
   "outputs": [],
   "source": [
    "relabel_cluster_celltypes(adata,new_label=\"Mast Cells \",target_clusters=[\"17\"])"
   ]
  },
  {
   "cell_type": "code",
   "execution_count": null,
   "id": "4b41dc23-9169-4908-b56f-738ac40a71d7",
   "metadata": {},
   "outputs": [],
   "source": [
    "sc.pl.umap(adata, color = ['cell_type'], frameon = False,title=\"LEIDEN CLUSTERING\")"
   ]
  },
  {
   "cell_type": "code",
   "execution_count": null,
   "id": "66e10edf-f062-4318-915a-9d348ca79870",
   "metadata": {},
   "outputs": [],
   "source": [
    "sc.tl.rank_genes_groups(\n",
    "    adata, groupby=\"leiden\", method=\"wilcoxon\", key_added=\"dea_leiden\"\n",
    ")"
   ]
  },
  {
   "cell_type": "code",
   "execution_count": null,
   "id": "70241a7e-b3ed-4c93-add4-c09aa785346e",
   "metadata": {},
   "outputs": [],
   "source": [
    "sc.tl.dendrogram(adata, groupby='leiden')"
   ]
  },
  {
   "cell_type": "code",
   "execution_count": null,
   "id": "b00eedf6-0b8b-49fd-bff8-7cb20703a719",
   "metadata": {},
   "outputs": [],
   "source": [
    "sc.pl.rank_genes_groups_dotplot(\n",
    "    adata, groupby=\"leiden\", standard_scale=\"var\", n_genes=5, key=\"dea_leiden\"\n",
    ")\n"
   ]
  },
  {
   "cell_type": "code",
   "execution_count": null,
   "id": "0b1914b0-43b9-4391-87c0-01425766dbb3",
   "metadata": {},
   "outputs": [],
   "source": [
    "# Extract the resuls of differential genes\n",
    "ranked_genes = adata.uns['dea_leiden']\n",
    "\n",
    "# Obtain the processed groups\n",
    "groups = ranked_genes['names'].dtype.names\n",
    "\n",
    "# Create a dictionary to store top 5 genes per group\n",
    "top_genes_by_group = {}\n",
    "\n",
    "# Iterate through each group and extract top 5 genes\n",
    "for group in groups:\n",
    "    top_genes_by_group[group] = ranked_genes['names'][group][:10]  # Tomar los primeros 5 genes\n",
    "\n",
    "# Show results\n",
    "for group, genes in top_genes_by_group.items():\n",
    "    print(f\"Grupo {group}: {', '.join(genes)}\")\n"
   ]
  },
  {
   "cell_type": "markdown",
   "id": "07f1e6cb-af57-4db0-a0c8-8756e3b6348e",
   "metadata": {},
   "source": [
    "## Paper annotation"
   ]
  },
  {
   "cell_type": "code",
   "execution_count": null,
   "id": "4f8a4362-932d-476e-a376-92aa6b365424",
   "metadata": {},
   "outputs": [],
   "source": [
    "# Only read columns \"Barcodes\" and \"Celltypes\" \n",
    "df = pd.read_csv(\"cell_annotation/GSE263733_Cell_annotation.txt\", sep=\"\\t\", usecols=[\"Barcodes\", \"Celltypes\"])\n",
    "\n",
    "# Verify the first rows to confirm columns\n",
    "#print(df.head()) \n",
    "\n",
    "# Create dictionary\n",
    "diccionario = pd.Series(df.Celltypes.values, index=df.Barcodes).to_dict()"
   ]
  },
  {
   "cell_type": "code",
   "execution_count": null,
   "id": "e9514eb6-72c1-466f-b5d8-f78cf955e234",
   "metadata": {},
   "outputs": [],
   "source": [
    "print(dict(list(diccionario.items())[:10]))"
   ]
  },
  {
   "cell_type": "code",
   "execution_count": null,
   "id": "e83afae8-78dc-4a65-a23d-25884c6533b6",
   "metadata": {},
   "outputs": [],
   "source": [
    "adata.obs['cell_type_2'] = adata.obs.index.map(diccionario)"
   ]
  },
  {
   "cell_type": "code",
   "execution_count": null,
   "id": "64c08316-a178-4c2a-8392-e140533a14ca",
   "metadata": {},
   "outputs": [],
   "source": [
    "sc.pl.umap(adata, color = ['cell_type'] + ['cell_type_2'], frameon = False)"
   ]
  },
  {
   "cell_type": "markdown",
   "id": "ef324508-43d1-45b7-aec3-43df0ff00ddb",
   "metadata": {},
   "source": [
    "### CONCLUSIONES\n",
    "I have noticed two discrepancies: in the B cell cluster (it seems that I labeled part of them as T cells), and one cluster that I believe belongs to mast cells.\n",
    "The rest matches the annotation obtained from GEO."
   ]
  },
  {
   "cell_type": "code",
   "execution_count": null,
   "id": "18543d7c-33ca-466e-9d54-d5e91a650433",
   "metadata": {},
   "outputs": [],
   "source": [
    "adata.write(\"adata_anotado.h5ad\")"
   ]
  },
  {
   "cell_type": "code",
   "execution_count": null,
   "id": "732bd572",
   "metadata": {},
   "outputs": [],
   "source": [
    "import scanpy as sc"
   ]
  },
  {
   "cell_type": "code",
   "execution_count": null,
   "id": "629f9d7b",
   "metadata": {},
   "outputs": [],
   "source": [
    "adata = sc.read_h5ad('GSE263733_cleaned.h5ad')"
   ]
  },
  {
   "cell_type": "code",
   "execution_count": null,
   "id": "070ec501",
   "metadata": {},
   "outputs": [],
   "source": [
    "adata"
   ]
  },
  {
   "cell_type": "code",
   "execution_count": null,
   "id": "e2ebf868",
   "metadata": {},
   "outputs": [],
   "source": [
    "import pandas as pd\n",
    "\n",
    "# Contar células por tipo celular\n",
    "conteo_por_tipo = adata.obs['cell_type'].value_counts()\n",
    "\n",
    "# Mostrar el resultado\n",
    "print(conteo_por_tipo)"
   ]
  }
 ],
 "metadata": {
  "kernelspec": {
   "display_name": "base",
   "language": "python",
   "name": "python3"
  },
  "language_info": {
   "codemirror_mode": {
    "name": "ipython",
    "version": 3
   },
   "file_extension": ".py",
   "mimetype": "text/x-python",
   "name": "python",
   "nbconvert_exporter": "python",
   "pygments_lexer": "ipython3",
   "version": "3.12.2"
  }
 },
 "nbformat": 4,
 "nbformat_minor": 5
}
